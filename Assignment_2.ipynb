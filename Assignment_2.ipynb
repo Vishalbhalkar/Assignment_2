{
 "cells": [
  {
   "cell_type": "code",
   "execution_count": 2,
   "id": "6c1ba11a-6416-47c4-819b-720a79d2fef5",
   "metadata": {},
   "outputs": [],
   "source": [
    "#Assignment_2"
   ]
  },
  {
   "cell_type": "code",
   "execution_count": 3,
   "id": "302ac257-b78d-44d0-b178-b5988276aefa",
   "metadata": {},
   "outputs": [],
   "source": [
    "#Q1]"
   ]
  },
  {
   "cell_type": "raw",
   "id": "6be650a0-69a5-41ce-97f0-417831aaedc9",
   "metadata": {},
   "source": [
    "Comments in Python are used to explain what the code does, and they are ignored by the Python interpreter. \n",
    "There are two types of comments in Python: single-line comments and multi-line comments."
   ]
  },
  {
   "cell_type": "raw",
   "id": "42968d43-8f61-4975-85e7-a72e14cd5ab8",
   "metadata": {},
   "source": [
    "Single-line comments start with the hash symbol (#) and continue to the end of the line. For example:"
   ]
  },
  {
   "cell_type": "code",
   "execution_count": 4,
   "id": "2c9ef894-62af-4661-ad2c-9b98ef95c4cb",
   "metadata": {},
   "outputs": [
    {
     "name": "stdout",
     "output_type": "stream",
     "text": [
      "Hello, PWSkills\n"
     ]
    }
   ],
   "source": [
    "# This is a single-line comment\n",
    "print(\"Hello, PWSkills\")"
   ]
  },
  {
   "cell_type": "raw",
   "id": "5cbc0392-519a-4050-9b2a-232e789c8904",
   "metadata": {},
   "source": [
    "Multi-line comments can be used to explain a block of code. They start with three quotation marks (\"\"\") and end with three quotation marks. For example:"
   ]
  },
  {
   "cell_type": "code",
   "execution_count": 5,
   "id": "8a6b24cf-1ddf-40da-abcd-519837ae2c13",
   "metadata": {},
   "outputs": [
    {
     "name": "stdout",
     "output_type": "stream",
     "text": [
      "Hello, PWSkills\n"
     ]
    }
   ],
   "source": [
    "\"\"\"\n",
    "This is a multi-line comment\n",
    "that can span multiple lines\n",
    "\"\"\"\n",
    "print(\"Hello, PWSkills\")\n"
   ]
  },
  {
   "cell_type": "code",
   "execution_count": 6,
   "id": "c6243447-15e2-47b3-85a1-a6417bcc8481",
   "metadata": {},
   "outputs": [],
   "source": [
    "#Q2]"
   ]
  },
  {
   "cell_type": "raw",
   "id": "21287f26-74c0-4ba2-906a-fcdf75ebbdde",
   "metadata": {},
   "source": [
    "Variables in Python are named references to objects. They are used to store data and values, and they can be used to refer to that data and values throughout your code."
   ]
  },
  {
   "cell_type": "code",
   "execution_count": 7,
   "id": "a7495b2c-fc0c-4545-bc02-51daaf128f72",
   "metadata": {},
   "outputs": [],
   "source": [
    "my_name = \"Vishal\"\n",
    "my_age = 20\n",
    "my_height = 175"
   ]
  },
  {
   "cell_type": "markdown",
   "id": "35d4c859-8196-4fff-8d2e-ae7eeef65520",
   "metadata": {},
   "source": [
    "In this example, we have declared three variables: my_name, my_age, and my_height. We have assigned the values \"Sagar\", 21, and 175 to these variables, respectively."
   ]
  },
  {
   "cell_type": "code",
   "execution_count": 8,
   "id": "c1a6ffda-a4bd-45f0-85c3-908d7919e18a",
   "metadata": {},
   "outputs": [
    {
     "name": "stdout",
     "output_type": "stream",
     "text": [
      "Vishal\n"
     ]
    }
   ],
   "source": [
    "print(my_name)"
   ]
  },
  {
   "cell_type": "code",
   "execution_count": 9,
   "id": "fdef67a3-db6c-4d1e-8dec-e79ca51a4994",
   "metadata": {},
   "outputs": [],
   "source": [
    "#Q3]"
   ]
  },
  {
   "cell_type": "raw",
   "id": "ebfdd1ea-d727-4e6b-9dcb-bed00cba2710",
   "metadata": {},
   "source": [
    "In Python, you can convert one data type to another using built-in functions. Here are some of the most common built-in functions for converting data types:\n",
    "\n",
    "int() : Converts a string or a floating-point number to an integer.\n",
    "float() : Converts a string or an integer to a floating-point number.\n",
    "str() : Converts an integer, a floating-point number, or a Boolean value to a string.\n",
    "complex() : Converts a real number or a complex number to a complex number.\n",
    "bool() : Converts a string, an integer, or a floating-point number to a Boolean value."
   ]
  },
  {
   "cell_type": "code",
   "execution_count": 10,
   "id": "1352d75f-6297-4306-8b77-2c78675fef72",
   "metadata": {},
   "outputs": [
    {
     "data": {
      "text/plain": [
       "str"
      ]
     },
     "execution_count": 10,
     "metadata": {},
     "output_type": "execute_result"
    }
   ],
   "source": [
    "var = \"123\"\n",
    "type(var)"
   ]
  },
  {
   "cell_type": "code",
   "execution_count": 11,
   "id": "04bc4eab-12cf-4b41-8eae-d9de8ca321c0",
   "metadata": {},
   "outputs": [
    {
     "data": {
      "text/plain": [
       "int"
      ]
     },
     "execution_count": 11,
     "metadata": {},
     "output_type": "execute_result"
    }
   ],
   "source": [
    "var = int(var)\n",
    "type(var)"
   ]
  },
  {
   "cell_type": "code",
   "execution_count": 12,
   "id": "d16c732f-6444-42d5-a27e-14311261a67a",
   "metadata": {},
   "outputs": [],
   "source": [
    "#Q4]"
   ]
  },
  {
   "cell_type": "raw",
   "id": "e8a830c7-f655-4cc7-af36-85b2574283a0",
   "metadata": {},
   "source": [
    "Create a new file with a .py extension. For example, create a file called hello.py.\n",
    "Write Python code in the file. For example,Write the following code in hello.py"
   ]
  },
  {
   "cell_type": "code",
   "execution_count": 13,
   "id": "ee4e4c41-a9bb-41b2-be7d-98cdbbe13b12",
   "metadata": {},
   "outputs": [
    {
     "name": "stdout",
     "output_type": "stream",
     "text": [
      "Hello, world!\n"
     ]
    }
   ],
   "source": [
    "print(\"Hello, world!\")"
   ]
  },
  {
   "cell_type": "raw",
   "id": "ef2b32b7-d541-47e7-bc3a-eff3adb6295a",
   "metadata": {},
   "source": [
    "Save the file.\n",
    "Open a command prompt or terminal window.\n",
    "Navigate to the directory where you saved the Python script.\n",
    "Run the Python script by typing the following command: python hello.py"
   ]
  },
  {
   "cell_type": "code",
   "execution_count": 14,
   "id": "8a6fcd29-f204-450f-8c46-562734e78e87",
   "metadata": {},
   "outputs": [],
   "source": [
    "#Q5]"
   ]
  },
  {
   "cell_type": "code",
   "execution_count": 15,
   "id": "70b267d4-1bd7-45be-9726-4dcef0d44159",
   "metadata": {},
   "outputs": [
    {
     "name": "stdout",
     "output_type": "stream",
     "text": [
      "[2, 3]\n"
     ]
    }
   ],
   "source": [
    "my_list = [1, 2, 3, 4, 5]\n",
    "sub_list = my_list[1:3]\n",
    "\n",
    "print(sub_list)"
   ]
  },
  {
   "cell_type": "code",
   "execution_count": 16,
   "id": "32b066f1-8cad-49a4-a4ae-43d672fc9853",
   "metadata": {},
   "outputs": [],
   "source": [
    "#Q6]"
   ]
  },
  {
   "cell_type": "raw",
   "id": "5cd98990-d0b9-45dd-a376-3f2ec13b17f1",
   "metadata": {},
   "source": [
    "j operator to represent the imaginary unit.\n",
    "For example, the following code would create a complex number with a real part of 1 and an imaginary part of 2: z = 1 + 2j"
   ]
  },
  {
   "cell_type": "raw",
   "id": "89457794-11a8-4bc2-88de-0748e853d9c4",
   "metadata": {},
   "source": [
    "complex() constructor to create a complex number. For example, the following code would create a complex number with a real part of 1 and an imaginary part of 2: z = complex(1, 2)"
   ]
  },
  {
   "cell_type": "code",
   "execution_count": 17,
   "id": "482c4028-b64f-4f82-a12c-66ee24bfb98b",
   "metadata": {},
   "outputs": [],
   "source": [
    "#Q7]"
   ]
  },
  {
   "cell_type": "code",
   "execution_count": 18,
   "id": "d2a57a45-ecb7-47e2-ba65-fc0bc155f7fd",
   "metadata": {},
   "outputs": [],
   "source": [
    "age = 25\n",
    "#This code would create a variable named age and assign it the value 25. The data type of age is integer."
   ]
  },
  {
   "cell_type": "code",
   "execution_count": 19,
   "id": "60747504-7fe3-49ca-9704-d7fff42d88d4",
   "metadata": {},
   "outputs": [],
   "source": [
    "#Q8]"
   ]
  },
  {
   "cell_type": "code",
   "execution_count": 20,
   "id": "977d3d17-0486-492a-8ce8-f0f105bf8a4d",
   "metadata": {},
   "outputs": [],
   "source": [
    "price = 9.99\n",
    "#This code would create a variable named price and assign it the value 9.99. The data type of price is float."
   ]
  },
  {
   "cell_type": "code",
   "execution_count": 21,
   "id": "8153bb02-d5a2-444c-8ade-40139e5a0374",
   "metadata": {},
   "outputs": [],
   "source": [
    "#Q9]"
   ]
  },
  {
   "cell_type": "code",
   "execution_count": 22,
   "id": "f122d24f-51a8-4b3b-bbd1-439771cb43c0",
   "metadata": {},
   "outputs": [],
   "source": [
    "name = \"Vishal Bhalkar\"\n",
    "#To print the value of the name variable, you could use the following code:"
   ]
  },
  {
   "cell_type": "code",
   "execution_count": 23,
   "id": "5b0dadd8-a098-4d34-b6d8-9fe23326f81b",
   "metadata": {},
   "outputs": [
    {
     "name": "stdout",
     "output_type": "stream",
     "text": [
      "Vishal Bhalkar\n"
     ]
    }
   ],
   "source": [
    "print(name)"
   ]
  },
  {
   "cell_type": "code",
   "execution_count": 24,
   "id": "e7141091-b907-4cc8-a5fd-85d1b7812f4a",
   "metadata": {},
   "outputs": [],
   "source": [
    "#Q10]"
   ]
  },
  {
   "cell_type": "code",
   "execution_count": 28,
   "id": "4d4c8d67-02fa-414e-8ad0-e52f93eec861",
   "metadata": {},
   "outputs": [
    {
     "name": "stdout",
     "output_type": "stream",
     "text": [
      "World\n"
     ]
    }
   ],
   "source": [
    "string = \"Hello, World!\"\n",
    "substring = string[7:12]\n",
    "\n",
    "print(substring)"
   ]
  },
  {
   "cell_type": "code",
   "execution_count": 26,
   "id": "edb83f79-ddd9-4615-83b3-d6077d3bf208",
   "metadata": {},
   "outputs": [],
   "source": [
    "#Q11]"
   ]
  },
  {
   "cell_type": "code",
   "execution_count": 27,
   "id": "1ed75e50-949a-4749-9dfa-44f190838224",
   "metadata": {},
   "outputs": [],
   "source": [
    "is_student = False\n",
    "#This code would create a variable named is_student and assign it the value False. This means that I am not currently a student."
   ]
  }
 ],
 "metadata": {
  "kernelspec": {
   "display_name": "Python 3 (ipykernel)",
   "language": "python",
   "name": "python3"
  },
  "language_info": {
   "codemirror_mode": {
    "name": "ipython",
    "version": 3
   },
   "file_extension": ".py",
   "mimetype": "text/x-python",
   "name": "python",
   "nbconvert_exporter": "python",
   "pygments_lexer": "ipython3",
   "version": "3.9.12"
  }
 },
 "nbformat": 4,
 "nbformat_minor": 5
}
